{
  "nbformat": 4,
  "nbformat_minor": 0,
  "metadata": {
    "colab": {
      "name": "Análisis_Facatativá.ipynb",
      "private_outputs": true,
      "provenance": [],
      "collapsed_sections": [],
      "mount_file_id": "1mdSoPP3yknpIkCajasFyjo_EgaSC8dqA",
      "authorship_tag": "ABX9TyNKEG0LS/yRSW0Ih5km4KlH",
      "include_colab_link": true
    },
    "kernelspec": {
      "name": "python3",
      "display_name": "Python 3"
    },
    "language_info": {
      "name": "python"
    }
  },
  "cells": [
    {
      "cell_type": "markdown",
      "metadata": {
        "id": "view-in-github",
        "colab_type": "text"
      },
      "source": [
        "<a href=\"https://colab.research.google.com/github/eicarrillos/Analisis_Facatativ-/blob/main/An%C3%A1lisis_Facatativ%C3%A1.ipynb\" target=\"_parent\"><img src=\"https://colab.research.google.com/assets/colab-badge.svg\" alt=\"Open In Colab\"/></a>"
      ]
    },
    {
      "cell_type": "code",
      "execution_count": null,
      "metadata": {
        "id": "VtzLEqE48PSz"
      },
      "outputs": [],
      "source": [
        "import numpy as np\n",
        "import pandas as pd\n",
        "import matplotlib.pyplot as plt\n",
        "\n",
        "pd.read_excel('/content/FACATATIVÁ - BLOQUES TEMÁTICOS GENERALES  2022 (Respuestas).xlsx')"
      ]
    },
    {
      "cell_type": "markdown",
      "source": [
        "## Cargue de datos\n",
        "\n",
        "carga de los datos desde la hoja de excel FACATATIVÁ-BLOQUES TEMATICOS.xlsx\n"
      ],
      "metadata": {
        "id": "4q2dtrAr_2kP"
      }
    },
    {
      "cell_type": "code",
      "source": [
        "Data_num = pd.read_excel('/content/FACATATIVÁ - BLOQUES TEMÁTICOS GENERALES  2022 (Respuestas).xlsx')\n",
        "\n",
        "#base de datos sin el encabezado\n",
        "#base = Data_num.iloc[1:,:]\n",
        "# Names de las columnas\n",
        "#headers = Data_num.iloc[0,:]\n",
        "\n",
        "# Base limpia\n",
        "Data_zeros = pd.DataFrame(Data_num)\n",
        "\n",
        "print(Data_zeros.columns)"
      ],
      "metadata": {
        "id": "2ECPnLNq-3-z"
      },
      "execution_count": null,
      "outputs": []
    },
    {
      "cell_type": "markdown",
      "source": [
        "# Limpieza de los datos \n",
        "codigos y funciones para eliminar datos NaN y caracteres innecesarios como 'años' \n"
      ],
      "metadata": {
        "id": "LZLW5BGFAb2t"
      }
    },
    {
      "cell_type": "code",
      "source": [
        "# eliminando datos NaN y reemplazandolos con zeros\n",
        "Data = Data_zeros.replace(np.nan,0)\n",
        "\n",
        "# limpiando la columna \"Edad\" y eliminando la palabra años\n",
        "c = Data.iloc[:,4]\n",
        "data_edad = []\n",
        "for i in range(len(c)):\n",
        "  k = c[i][:7]\n",
        "  data_edad.append(k)\n",
        "\n",
        "#reemplazando 0 por rural\n",
        "Data['Barrio'] = Data['Barrio'].replace(0, 'Rural/Otro')\n",
        "\n",
        "Data['Edad '] = data_edad\n",
        "print(Data.iloc[:,13:23])"
      ],
      "metadata": {
        "id": "pu5depKDjWsv"
      },
      "execution_count": null,
      "outputs": []
    },
    {
      "cell_type": "markdown",
      "source": [
        "# Análisis descriptivo\n"
      ],
      "metadata": {
        "id": "T1i3I7M8JZyF"
      }
    },
    {
      "cell_type": "markdown",
      "source": [
        "## Conteo"
      ],
      "metadata": {
        "id": "8Q-fxrjMNGBM"
      }
    },
    {
      "cell_type": "code",
      "source": [
        "# Conteo de datos Cualitativos\n",
        "\n",
        "List_cualitativos = Data.columns[1:]\n",
        "\n",
        "freq_cuali = []\n",
        "for char in List_cualitativos:\n",
        "  cualitativo = 'count_'+ str(char)\n",
        "  freq_cuali.append(cualitativo)\n",
        "\n",
        "n = 0\n",
        "for char in List_cualitativos:\n",
        "  freq_cuali[n] = Data[char].value_counts()\n",
        "  n = n+1\n",
        "\n",
        "print(freq_cuali)\n"
      ],
      "metadata": {
        "id": "NR1wHGy-NDYE"
      },
      "execution_count": null,
      "outputs": []
    },
    {
      "cell_type": "markdown",
      "source": [
        "## Primer Bloque- Caraterísticas generales"
      ],
      "metadata": {
        "id": "WPhUKJ3JBWBg"
      }
    },
    {
      "cell_type": "code",
      "source": [
        "def freq(c,y):\n",
        "  for i in c:\n",
        "    f = i/c.sum()\n",
        "    y.append(f*100)"
      ],
      "metadata": {
        "id": "suIi4CY3y6bd"
      },
      "execution_count": null,
      "outputs": []
    },
    {
      "cell_type": "markdown",
      "source": [
        "### Frecuencias Primer bloque"
      ],
      "metadata": {
        "id": "-YMreGQi4m3J"
      }
    },
    {
      "cell_type": "code",
      "source": [
        "\n",
        "#conteo de datos por pregunta:\n",
        "# 3. Genero\n",
        "Genero = freq_cuali[2]\n",
        "Gen_freq = []\n",
        "freq(Genero, Gen_freq)\n",
        "Data_genero = pd.DataFrame(Genero)\n",
        "Data_genero['Freq relativa'] = Gen_freq\n",
        "\n",
        "# 4. Edad\n",
        "Edad = freq_cuali[3]\n",
        "Edad_freq = []\n",
        "freq(Edad, Edad_freq)\n",
        "Data_Edad = pd.DataFrame(Edad)\n",
        "Data_Edad['Freq relativa'] = Edad_freq\n",
        "\n",
        "# 5. Formación académica\n",
        "Formacion_academica = freq_cuali[4][0:5]\n",
        "Formacion_academica['Ninguno'] = (2)\n",
        "for_freq = []\n",
        "freq(Formacion_academica, for_freq)\n",
        "Data_formacion = pd.DataFrame(Formacion_academica)\n",
        "Data_formacion['Freq relativa'] = for_freq\n",
        "\n",
        "# 6. Actividad economica\n",
        "Actividad_economica = freq_cuali[5]\n",
        "act_freq = []\n",
        "freq(Actividad_economica, act_freq)\n",
        "Data_actividad = pd.DataFrame(Actividad_economica)\n",
        "Data_actividad['Freq relativa'] = act_freq\n",
        "\n",
        "# 7. Estrato\n",
        "Estrato_c = freq_cuali[6]\n",
        "est_freq = []\n",
        "freq(Estrato_c, est_freq)\n",
        "Data_estrato = pd.DataFrame(Estrato_c)\n",
        "Data_estrato['Freq relativa'] = est_freq\n",
        "\n",
        "# Intervención\n",
        "Intervencion = freq_cuali[7]\n",
        "int_freq = []\n",
        "freq(Intervencion, int_freq)\n",
        "Data_inter = pd.DataFrame(Intervencion)\n",
        "Data_inter['Freq relativa'] = int_freq\n",
        "\n",
        "#Barrio\n",
        "Barrio = freq_cuali[8]\n",
        "bar_freq = []\n",
        "freq(Barrio, bar_freq)\n",
        "Data_barrio = pd.DataFrame(Barrio)\n",
        "Data_barrio['Freq relativa'] = bar_freq\n",
        "\n",
        "#Vereda\n",
        "Vereda = freq_cuali[9][1:]\n",
        "ver_freq = []\n",
        "freq(Vereda, ver_freq)\n",
        "Data_vereda = pd.DataFrame(Vereda)\n",
        "Data_vereda['Freq relativa'] = ver_freq\n",
        "\n",
        "\n",
        "print()\n"
      ],
      "metadata": {
        "id": "aUchydKuwZOR"
      },
      "execution_count": null,
      "outputs": []
    },
    {
      "cell_type": "markdown",
      "source": [
        "### Graficas del Primer bloque\n"
      ],
      "metadata": {
        "id": "NaARMCxPJI5R"
      }
    },
    {
      "cell_type": "code",
      "source": [
        "def conc(y,c):\n",
        "  for i in range(len(y)):\n",
        "    c.append(y.iloc[i])\n",
        "\n",
        "def conclist(y,c):\n",
        "  for i in range(len(y)):\n",
        "    c.append(y[i])\n",
        "\n",
        "def color(color, lista, n):\n",
        "  for i in range(n):\n",
        "    lista.append(color)\n",
        "\n",
        "def value_strings(c, y):\n",
        "  for i in c.index:\n",
        "    k = str(i)\n",
        "    y.append(k) \n",
        "\n",
        "#string estrato\n",
        "\n",
        "Estrato = []\n",
        "value_strings(Estrato_c, Estrato)\n",
        "print(Estrato)\n",
        "  \n"
      ],
      "metadata": {
        "id": "xSI_bOV8NQVG"
      },
      "execution_count": null,
      "outputs": []
    },
    {
      "cell_type": "code",
      "source": [
        "# Frecuencia de edad y genero\n",
        "gen_edad = [182, 124]\n",
        "conc(Edad, gen_edad)\n",
        "# Columns name\n",
        "gen_edad_columns_name = ['Mujer','Hombre']\n",
        "conclist(Edad.index, gen_edad_columns_name)\n",
        "\n",
        "# Frecuencia Formacion, Actividad y estrato\n",
        "for_act_est =[]\n",
        "conc(Formacion_academica, for_act_est)\n",
        "conc(Actividad_economica, for_act_est)\n",
        "conc(Estrato_c, for_act_est)\n",
        "#columns name\n",
        "for_act_est_columns_name =[]\n",
        "conclist(Formacion_academica.index, for_act_est_columns_name)\n",
        "conclist(Actividad_economica.index, for_act_est_columns_name)\n",
        "conclist(Estrato, for_act_est_columns_name)\n",
        "for_act_est_columns_name[10] = 'Otro'\n",
        "\n",
        "# Frecuencia Barrio-Vereda\n",
        "bar_ver=[]\n",
        "conc(Barrio[0:15], bar_ver)\n",
        "conc(Vereda, bar_ver)\n",
        "#columns name\n",
        "bar_ver_columns_name =[]\n",
        "conclist(Barrio.index[:15], bar_ver_columns_name)\n",
        "conclist(Vereda.index, bar_ver_columns_name)\n",
        "\n",
        "print()"
      ],
      "metadata": {
        "id": "Dj1Kd0IQJIV9"
      },
      "execution_count": null,
      "outputs": []
    },
    {
      "cell_type": "code",
      "source": [
        "#histogramas\n",
        "c_edad = []\n",
        "color('DarkViolet', c_edad, 2)\n",
        "color('LightSkyBlue', c_edad, len(Edad))\n",
        "\n",
        "plt.figure(figsize=(15,6))\n",
        "plt.bar(gen_edad_columns_name[:2], gen_edad[0:2], color = c_edad[0:2], label = \"Genero\")\n",
        "plt.bar(gen_edad_columns_name[2:], gen_edad[2:], color = c_edad[2:], label = \"Edades\")\n",
        "plt.hlines(y = 43, xmax=15, xmin=0, color= 'red', linestyles='dashed',label=\"y_43\")\n",
        "plt.xlabel('')\n",
        "plt.ylabel('Frecuencia')\n",
        "plt.title('Grafico de frecuencia Genero-Edades')\n",
        "plt.legend(loc = \"best\")\n",
        "plt.show()"
      ],
      "metadata": {
        "id": "RhYJCV_PSwIW"
      },
      "execution_count": null,
      "outputs": []
    },
    {
      "cell_type": "code",
      "source": [
        "#histogramas\n",
        "c_act = []\n",
        "color('darkslateblue', c_act, len(Formacion_academica))\n",
        "color('slateblue', c_act, len(Actividad_economica))\n",
        "color('royalblue', c_act, len(Estrato_c))\n",
        "\n",
        "plt.figure(figsize=(15,6))\n",
        "plt.bar(for_act_est_columns_name[:6], for_act_est[0:6], color = c_act[0:6], label = \"Formacion acdémica\")\n",
        "plt.bar(for_act_est_columns_name[6:11], for_act_est[6:11], color = c_act[6:11], label = \"Actividad económica\")\n",
        "plt.bar(for_act_est_columns_name[11:], for_act_est[11:], color = c_act[11:], label = \"Estrato\")\n",
        "\n",
        "#plt.hlines(y = 43, xmax=15, xmin=0, color= 'red', linestyles='dashed',label=\"y=43\")\n",
        "plt.xticks(rotation=70)\n",
        "plt.xlabel('')\n",
        "plt.ylabel('Frecuencia')\n",
        "plt.title('Grafico de frecuencia Formacion-Actividad-Estrato')\n",
        "plt.legend(loc = \"best\")\n",
        "plt.show()"
      ],
      "metadata": {
        "id": "3Q8rzxPMAY0T"
      },
      "execution_count": null,
      "outputs": []
    },
    {
      "cell_type": "code",
      "source": [
        "#histogramas\n",
        "c_barrio = []\n",
        "color('darkcyan', c_barrio, len(Barrio[:15]))\n",
        "color('darkslategray', c_barrio, len(Vereda))\n",
        "\n",
        "plt.figure(figsize=(15,6))\n",
        "plt.bar(bar_ver_columns_name[:15], bar_ver[0:15], color = c_barrio[0:15], label = \"Barrios\")\n",
        "plt.bar(bar_ver_columns_name[15:], bar_ver[15:], color = c_barrio[15:], label = \"Veredas\")\n",
        "\n",
        "#plt.hlines(y = 43, xmax=15, xmin=0, color= 'red', linestyles='dashed',label=\"y_43\")\n",
        "plt.xticks(rotation=70)\n",
        "plt.xlabel('')\n",
        "plt.ylabel('Frecuencia')\n",
        "plt.title('Grafico de frecuencia Barrio-Vereda')\n",
        "plt.legend(loc = \"best\")\n",
        "plt.show()"
      ],
      "metadata": {
        "id": "ueXFRHGeiOrG"
      },
      "execution_count": null,
      "outputs": []
    },
    {
      "cell_type": "markdown",
      "source": [
        "## Segundo Bloque- Percepción Social"
      ],
      "metadata": {
        "id": "ryGoIMVPmXkc"
      }
    },
    {
      "cell_type": "markdown",
      "source": [
        "### Frecuencias Segundo Bloque"
      ],
      "metadata": {
        "id": "zaxnLtms4w1g"
      }
    },
    {
      "cell_type": "code",
      "source": [
        "# como va el municipio\n",
        "camino_municipio = freq_cuali[10]\n",
        "camino_freq = []\n",
        "freq(camino_municipio, camino_freq)\n",
        "Data_camino = pd.DataFrame(camino_municipio)\n",
        "Data_camino['Freq relativa'] = camino_freq\n",
        "\n",
        "print(Data_camino)"
      ],
      "metadata": {
        "id": "E6Buzsswmd1y"
      },
      "execution_count": null,
      "outputs": []
    },
    {
      "cell_type": "code",
      "source": [
        "def cut_list(list_init,list_fin,n):\n",
        "  for i in range(4):\n",
        "    if n != i:\n",
        "      list_fin.append(list_init[i])\n",
        "\n",
        "def cut_names(list_init,n):\n",
        "  list_fin = []\n",
        "  for i in range(len(list_init)):\n",
        "    if n != i:\n",
        "      list_fin.append(str(list_init.index[i]))\n",
        "  return list_fin\n",
        "\n",
        "def curt_index(c,n):\n",
        "  y = []\n",
        "  for i in range(len(c)):\n",
        "    k = c[i][n]\n",
        "    y.append(k)\n",
        "  return y\n",
        "\n",
        "      \n",
        "        \n"
      ],
      "metadata": {
        "id": "7xYVn1E9U6X5"
      },
      "execution_count": null,
      "outputs": []
    },
    {
      "cell_type": "code",
      "source": [
        "# Problemas de prioridad en Facatativa\n",
        "\n",
        "Data_prioridad = Data.iloc[:,13:22]\n",
        "\n",
        "#Economia\n",
        "economia_f = freq_cuali[12]\n",
        "economia = []\n",
        "cut_list(economia_f,economia,0)\n",
        "economia_names = cut_names(economia_f,0)\n",
        "economia_s = []\n",
        "freq(economia_f, economia_s)\n",
        "Data_economia = pd.DataFrame(economia_f)\n",
        "Data_economia['Freq relativa'] = economia_s\n",
        "\n",
        "#Corrupcion\n",
        "corrupcion_f = freq_cuali[13]\n",
        "corrupcion = []\n",
        "cut_list(corrupcion_f,corrupcion,0)\n",
        "corrupcion_names = cut_names(corrupcion_f,0)\n",
        "corrupcion_s = []\n",
        "freq(corrupcion_f, corrupcion_s)\n",
        "Data_corrupcion = pd.DataFrame(corrupcion_f)\n",
        "Data_corrupcion['Freq relativa'] = corrupcion_s\n",
        "\n",
        "\n",
        "#Inseguridad\n",
        "inseguridad_f = freq_cuali[14]\n",
        "inseguridad = [157, 45,79]\n",
        "inseguridad_s = []\n",
        "freq(inseguridad_f, inseguridad_s)\n",
        "Data_inseguridad = pd.DataFrame(inseguridad_f)\n",
        "Data_inseguridad['Freq relativa'] = inseguridad_s\n",
        "\n",
        "\n",
        "\n",
        "#Desempleo\n",
        "desempleo_f = freq_cuali[15]\n",
        "desempleo =[]\n",
        "cut_list(desempleo_f,desempleo,0)\n",
        "desempleo_names = cut_names(desempleo_f,0)\n",
        "desempleo_s = []\n",
        "freq(desempleo_f, desempleo_s)\n",
        "Data_desempleo = pd.DataFrame(desempleo_f)\n",
        "Data_desempleo['Freq relativa'] = desempleo_s\n",
        "\n",
        "\n",
        "#Salud\n",
        "salud_f = freq_cuali[16]\n",
        "salud = []\n",
        "cut_list(salud_f,salud,0)\n",
        "salud_names = cut_names(salud_f,0)\n",
        "salud_s = []\n",
        "freq(salud_f, salud_s)\n",
        "Data_salud = pd.DataFrame(salud_f)\n",
        "Data_salud['Freq relativa'] = salud_s\n",
        "\n",
        "\n",
        "#educación\n",
        "educacion_f = freq_cuali[17]\n",
        "educacion = []\n",
        "cut_list(educacion_f,educacion,0)\n",
        "educacion_names = cut_names(educacion_f,0)\n",
        "educacion_s = []\n",
        "freq(educacion_f, educacion_s)\n",
        "Data_educacion = pd.DataFrame(educacion_f)\n",
        "Data_educacion['Freq relativa'] = educacion_s\n",
        "\n",
        "\n",
        "\n",
        "#Medio Ambiente\n",
        "ambiente_f = freq_cuali[18]\n",
        "ambiente = []\n",
        "cut_list(ambiente_f,ambiente,0)\n",
        "ambiente_names = cut_names(ambiente_f,0)\n",
        "ambiente_s = []\n",
        "freq(ambiente_f, ambiente_s)\n",
        "Data_ambiente = pd.DataFrame(ambiente_f)\n",
        "Data_ambiente['Freq relativa'] = ambiente_s\n",
        "\n",
        "\n",
        "#Vacunación\n",
        "vacunacion_f = freq_cuali[19]\n",
        "vacunacion = [4,3,0]\n",
        "vacunacion_names = ['3.0','2.0','1.0']\n",
        "vacunacion_s = []\n",
        "freq(vacunacion_f, vacunacion_s)\n",
        "Data_vacunacion = pd.DataFrame(vacunacion_f)\n",
        "Data_vacunacion['Freq relativa'] = vacunacion_s\n",
        "\n",
        "\n",
        "#Extranjeros\n",
        "extranjeros_f = freq_cuali[20]\n",
        "extranjeros = []\n",
        "cut_list(extranjeros_f,extranjeros,0)\n",
        "extranjeros_names = cut_names(extranjeros_f,0)\n",
        "extranjeros_s = []\n",
        "freq(extranjeros_f, extranjeros_s)\n",
        "Data_extranjeros = pd.DataFrame(extranjeros_f)\n",
        "Data_extranjeros['Freq relativa'] = extranjeros_s\n",
        "\n",
        "\n",
        "print(Data_extranjeros) #, corrupcion, inseguridad, desempleo, salud, educacion, ambiente, vacunacion, extranjeros)\n"
      ],
      "metadata": {
        "id": "M42PQghqMcVj"
      },
      "execution_count": null,
      "outputs": []
    },
    {
      "cell_type": "code",
      "source": [
        "\n"
      ],
      "metadata": {
        "id": "YDsFP30viv0F"
      },
      "execution_count": null,
      "outputs": []
    },
    {
      "cell_type": "code",
      "source": [
        "#histogramas\n",
        "\n",
        "x = [economia, corrupcion, inseguridad, desempleo, salud, educacion, ambiente, vacunacion, extranjeros]\n",
        "\n",
        "x_1 = curt_index(x,0)\n",
        "x_2 = curt_index(x,1)\n",
        "x_3 = curt_index(x,2)\n",
        "\n",
        "x_names = ['economia', 'corrupcion', 'inseguridad', 'desempleo', 'salud', 'educacion', 'ambiente', 'vacunacion', 'extranjeros']\n",
        "colors = ['red', 'darkslategray', 'darkcyan']\n",
        "xi = np.arange(9)\n",
        "\n",
        "plt.figure(figsize=(15,6))\n",
        "plt.bar(xi + 0.00, x_1, color = colors[0] , label = \"Nivel de prioridad 1\", width= 0.20)\n",
        "plt.bar(xi + 0.20, x_2, color = colors[1] , label = \"Nivel de prioridad 2\", width= 0.20)\n",
        "plt.bar(xi + 0.40, x_3, color = colors[2] , label = \"Nivel de prioridad 3\", width= 0.20)\n",
        "\n",
        "\n",
        "#plt.hlines(y = 43, xmax=15, xmin=0, color= 'red', linestyles='dashed',label=\"y_43\")\n",
        "plt.xticks(xi+0.20, x_names, rotation = 30)\n",
        "plt.xlabel('')\n",
        "plt.ylabel('Número de habitantes')\n",
        "plt.title('Grafico prioridad de los problemas del municipio')\n",
        "plt.legend(loc = \"best\")\n",
        "#plt.show()\n",
        "print(x_3)"
      ],
      "metadata": {
        "id": "9eYZXW9aJnME"
      },
      "execution_count": null,
      "outputs": []
    },
    {
      "cell_type": "code",
      "source": [
        "pond = []\n",
        "\n",
        "for i in range(len(x_1)):\n",
        "  k1 = int(x_1[i])*5\n",
        "  k2 = int(x_2[i])*3\n",
        "  k3 = int(x_3[i])\n",
        "  pond.append(k1+k2+k3)\n",
        "\n",
        "Punt_priority = pd.DataFrame(pond, index = x_names)\n",
        "Punt_priority.sort_values(0,ascending=False)"
      ],
      "metadata": {
        "id": "CQ0Kv6TO1s1l"
      },
      "execution_count": null,
      "outputs": []
    }
  ]
}