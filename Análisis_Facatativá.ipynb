{
  "nbformat": 4,
  "nbformat_minor": 0,
  "metadata": {
    "colab": {
      "name": "Análisis_Facatativá.ipynb",
      "private_outputs": true,
      "provenance": [],
      "collapsed_sections": [],
      "mount_file_id": "1mdSoPP3yknpIkCajasFyjo_EgaSC8dqA",
      "authorship_tag": "ABX9TyOxIoPm2QkHCirVoH7PxdQl",
      "include_colab_link": true
    },
    "kernelspec": {
      "name": "python3",
      "display_name": "Python 3"
    },
    "language_info": {
      "name": "python"
    }
  },
  "cells": [
    {
      "cell_type": "markdown",
      "metadata": {
        "id": "view-in-github",
        "colab_type": "text"
      },
      "source": [
        "<a href=\"https://colab.research.google.com/github/eicarrillos/Analisis_Facatativ-/blob/main/An%C3%A1lisis_Facatativ%C3%A1.ipynb\" target=\"_parent\"><img src=\"https://colab.research.google.com/assets/colab-badge.svg\" alt=\"Open In Colab\"/></a>"
      ]
    },
    {
      "cell_type": "code",
      "execution_count": null,
      "metadata": {
        "id": "VtzLEqE48PSz"
      },
      "outputs": [],
      "source": [
        "import numpy as np\n",
        "import pandas as pd\n",
        "import matplotlib.pyplot as plt\n",
        "\n",
        "pd.read_excel('/content/FACATATIVÁ - BLOQUES TEMÁTICOS GENERALES  2022 (Respuestas).xlsx')"
      ]
    },
    {
      "cell_type": "code",
      "source": [
        "Data_num = pd.read_excel('/content/FACATATIVÁ - BLOQUES TEMÁTICOS GENERALES  2022 (Respuestas).xlsx')\n",
        "\n",
        "#base de datos sin el encabezado\n",
        "#base = Data_num.iloc[1:,:]\n",
        "# Names de las columnas\n",
        "#headers = Data_num.iloc[0,:]\n",
        "\n",
        "# Base limpia\n",
        "Data_zeros = pd.DataFrame(Data_num)\n",
        "\n",
        "print(Data_zeros.columns)"
      ],
      "metadata": {
        "id": "2ECPnLNq-3-z"
      },
      "execution_count": null,
      "outputs": []
    },
    {
      "cell_type": "code",
      "source": [
        "c = Data.iloc[:,4]\n",
        "data_edad = []\n",
        "for i in range(len(c)):\n",
        "  k = c[i][:7]\n",
        "  data_edad.append(k)\n",
        "\n",
        "\n",
        "print(data_edad)"
      ],
      "metadata": {
        "id": "Q8K7Tk-7G8XU"
      },
      "execution_count": null,
      "outputs": []
    },
    {
      "cell_type": "code",
      "source": [
        "# eliminando datos NaN y reemplazandolos con zeros\n",
        "Data = Data_zeros.replace(np.nan,0)\n",
        "\n",
        "# limpiando la columna \"Edad\" y eliminando la palabra años\n",
        "c = Data.iloc[:,4]\n",
        "data_edad = []\n",
        "for i in range(len(c)):\n",
        "  k = c[i][:7]\n",
        "  data_edad.append(k)\n",
        "\n",
        "#reemplazando la columna \"Edad \"\n",
        "\n",
        "Data['Edad '] = data_edad\n",
        "print(Data)"
      ],
      "metadata": {
        "id": "pu5depKDjWsv"
      },
      "execution_count": null,
      "outputs": []
    },
    {
      "cell_type": "markdown",
      "source": [
        "## Medidas de tendencia central \n",
        "\n",
        "Estas medidas son calculadas en el otro script proveniente de jupyter\n"
      ],
      "metadata": {
        "id": "T1i3I7M8JZyF"
      }
    },
    {
      "cell_type": "code",
      "source": [
        "# Medias de datos cuantitativos\n"
      ],
      "metadata": {
        "id": "Awzubvhqks0E"
      },
      "execution_count": null,
      "outputs": []
    },
    {
      "cell_type": "markdown",
      "source": [
        "## Medias"
      ],
      "metadata": {
        "id": "M9xOZ86pM8Un"
      }
    },
    {
      "cell_type": "code",
      "source": [
        "# conteo\n",
        "# Media de los datos cuantitativos\n",
        "\n",
        "# Lista de datos cuantitativos\n",
        "List_cuant = ['Edad ']\n",
        "\n",
        "#función de medias\n",
        "Mean_ages = []\n",
        "for char in List_cuant:\n",
        "  Mean = Data[char].mean()\n",
        "  Mean_ages.append(Mean)\n",
        "\n",
        "print(Mean_ages)"
      ],
      "metadata": {
        "id": "9eYZXW9aJnME"
      },
      "execution_count": null,
      "outputs": []
    },
    {
      "cell_type": "markdown",
      "source": [
        "## Conteo"
      ],
      "metadata": {
        "id": "8Q-fxrjMNGBM"
      }
    },
    {
      "cell_type": "code",
      "source": [
        "# Conteo de datos Cualitativos\n",
        "\n",
        "List_cualitativos = Data.columns[1:]\n",
        "\n",
        "list_names = []\n",
        "for char in List_cualitativos:\n",
        "  cualitativo = 'count_'+ str(char)\n",
        "  list_names.append(cualitativo)\n",
        "\n",
        "n = 0\n",
        "for char in List_cualitativos:\n",
        "  list_names[n] = Data[char].value_counts()\n",
        "  n = n+1\n",
        "\n",
        "print(list_names)\n"
      ],
      "metadata": {
        "id": "NR1wHGy-NDYE"
      },
      "execution_count": null,
      "outputs": []
    },
    {
      "cell_type": "code",
      "source": [
        "list_names[2]"
      ],
      "metadata": {
        "id": "aUchydKuwZOR"
      },
      "execution_count": null,
      "outputs": []
    }
  ]
}